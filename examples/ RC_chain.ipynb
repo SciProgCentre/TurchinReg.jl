{
 "cells": [
  {
   "cell_type": "markdown",
   "metadata": {},
   "source": [
    "# StatReg.jl. package usage example."
   ]
  },
  {
   "cell_type": "markdown",
   "metadata": {},
   "source": [
    "Simple RC - chain."
   ]
  },
  {
   "cell_type": "markdown",
   "metadata": {},
   "source": [
    "$U_{in} - input, U_{out} - output$"
   ]
  },
  {
   "cell_type": "markdown",
   "metadata": {},
   "source": [
    "$RC\\dot{U}_{out} = -U_{out}+U_{in}$"
   ]
  },
  {
   "cell_type": "markdown",
   "metadata": {},
   "source": [
    "$RC = \\tau$, $$U_{out}(t) = e^{-\\frac{t}{\\tau}}U_{out}(t=0)+e^{-\\frac{t}{\\tau}}\\int_0^t{e^{\\frac{x}{\\tau}}U_{in}(x)dx}$$"
   ]
  },
  {
   "cell_type": "markdown",
   "metadata": {},
   "source": [
    "When $U_{out}(t=0) = 0$ then \n",
    "$$U_{out}(t) = \\int_0^T{K(x,t)U_{in}(x)dx}$$"
   ]
  },
  {
   "cell_type": "markdown",
   "metadata": {},
   "source": [
    "$K(x,t) = \\begin{cases} e^{\\frac{x-t}{\\tau}},& x-t<=0\\\\ 0,& x-t>0 \\end{cases}$"
   ]
  },
  {
   "cell_type": "markdown",
   "metadata": {},
   "source": [
    " "
   ]
  },
  {
   "cell_type": "markdown",
   "metadata": {},
   "source": [
    "Define the kernel:"
   ]
  },
  {
   "cell_type": "code",
   "execution_count": 1,
   "metadata": {
    "scrolled": true
   },
   "outputs": [
    {
     "data": {
      "text/plain": [
       "kernel (generic function with 1 method)"
      ]
     },
     "execution_count": 1,
     "metadata": {},
     "output_type": "execute_result"
    }
   ],
   "source": [
    "using Plots\n",
    "plotly()\n",
    "gr(size=(500,500), html_output_format=:png)\n",
    "\n",
    "include(\"../src/StatReg.jl\")\n",
    "using .StatReg\n",
    "\n",
    "tau = 1.\n",
    "function kernel(x::Real, y::Real)\n",
    "    if x <= y\n",
    "        return exp( (x-y)/tau)\n",
    "    end\n",
    "    return 0.\n",
    "end"
   ]
  },
  {
   "cell_type": "markdown",
   "metadata": {},
   "source": [
    "Define $T=2\\pi, tau = 1,\\phi(t)=sin(t)+\\cfrac{1}{2} .$ out will be $f(t) = \\cfrac{1}{2}(\\sin{t}-\\cos{t}+1)$"
   ]
  },
  {
   "cell_type": "code",
   "execution_count": 2,
   "metadata": {},
   "outputs": [
    {
     "data": {
      "image/png": "[encoded data removed]"
     },
     "execution_count": 2,
     "metadata": {},
     "output_type": "execute_result"
    }
   ],
   "source": [
    "T = 2*pi\n",
    "a = 0.\n",
    "b = T\n",
    "\n",
    "function phi(x::Real)\n",
    "    return sin(x)+1/2\n",
    "end\n",
    "function f_expected(y::Real)\n",
    "    return (sin(y)-cos(y)+1)/2\n",
    "end\n",
    "\n",
    "#creating x array\n",
    "x = collect(range(a, stop=b, length=1000))\n",
    "phi_plot = plot(x, phi.(x), title=\"Real phi function\",label=[\"Phi(x)\"])"
   ]
  },
  {
   "cell_type": "markdown",
   "metadata": {},
   "source": [
    "Then, define $f(y)$ - the resulting function."
   ]
  },
  {
   "cell_type": "code",
   "execution_count": 3,
   "metadata": {},
   "outputs": [
    {
     "data": {
      "text/plain": [
       "#3 (generic function with 1 method)"
      ]
     },
     "execution_count": 3,
     "metadata": {},
     "output_type": "execute_result"
    }
   ],
   "source": [
    "x = collect(range(a, stop=b, length=20))\n",
    "f_clear = y -> quadgk(x -> kernel(x,y) * phi(x), a, b, rtol=10^-5, maxevals=10^7)[1]"
   ]
  },
  {
   "cell_type": "code",
   "execution_count": 4,
   "metadata": {},
   "outputs": [
    {
     "ename": "UndefVarError",
     "evalue": "UndefVarError: quadgk not defined",
     "output_type": "error",
     "traceback": [
      "UndefVarError: quadgk not defined",
      "",
      "Stacktrace:",
      " [1] (::getfield(Main, Symbol(\"##3#5\")))(::Float64) at ./In[3]:2",
      " [2] _broadcast_getindex_evalf at ./broadcast.jl:578 [inlined]",
      " [3] _broadcast_getindex at ./broadcast.jl:551 [inlined]",
      " [4] getindex at ./broadcast.jl:511 [inlined]",
      " [5] copy at ./broadcast.jl:787 [inlined]",
      " [6] materialize(::Base.Broadcast.Broadcasted{Base.Broadcast.DefaultArrayStyle{1},Nothing,getfield(Main, Symbol(\"##3#5\")),Tuple{Array{Float64,1}}}) at ./broadcast.jl:753",
      " [7] top-level scope at In[4]:2"
     ]
    }
   ],
   "source": [
    "plot_expected_f = plot(x, f_expected.(x))\n",
    "plot_clear_f = plot(x, f_clear.(x))\n",
    "gca().legend((\"f_expected\",\"f_clear\"))\n",
    "gca().grid()\n",
    "title(\"compering of f = K(x,y)*phi(x)dx and f(t) = 1/2(sin(t)-...)\\nalmost the same\")"
   ]
  },
  {
   "cell_type": "markdown",
   "metadata": {},
   "source": [
    "Than add a noise   "
   ]
  },
  {
   "cell_type": "code",
   "execution_count": 5,
   "metadata": {},
   "outputs": [
    {
     "ename": "UndefVarError",
     "evalue": "UndefVarError: quadgk not defined",
     "output_type": "error",
     "traceback": [
      "UndefVarError: quadgk not defined",
      "",
      "Stacktrace:",
      " [1] (::getfield(Main, Symbol(\"##3#5\")))(::Float64) at ./In[3]:2",
      " [2] _broadcast_getindex_evalf at ./broadcast.jl:578 [inlined]",
      " [3] _broadcast_getindex at ./broadcast.jl:551 [inlined]",
      " [4] getindex at ./broadcast.jl:511 [inlined]",
      " [5] copy at ./broadcast.jl:787 [inlined]",
      " [6] materialize(::Base.Broadcast.Broadcasted{Base.Broadcast.DefaultArrayStyle{1},Nothing,getfield(Main, Symbol(\"##3#5\")),Tuple{Array{Float64,1}}}) at ./broadcast.jl:753",
      " [7] top-level scope at In[5]:1"
     ]
    }
   ],
   "source": [
    "f_clear_array = f_clear.(x)\n",
    "eps = 0.05\n",
    "#change eps and observe the difference\n",
    "max_eps_array = [eps for i = 1:Base.length(f_clear_array)]\n",
    "\n",
    "using Compat, Random, Distributions\n",
    "\n",
    "noise_array = []\n",
    "for sigma in max_eps_array\n",
    "    n = rand(Normal(0., sigma), 1)[1]\n",
    "    push!(noise_array, n)\n",
    "end\n",
    "\n",
    "f_measured_array = f_clear_array + noise_array\n",
    "plot(x,f_clear_array)\n",
    "plot(x,f_measured_array)\n",
    "gca().legend((\"f_clear\",\"f_measured\"))\n",
    "gca().grid()\n",
    "title(\"comparing f_clear = K(x,y)*phi(x)dx and this ading a noise\")"
   ]
  },
  {
   "cell_type": "markdown",
   "metadata": {},
   "source": [
    "Now, we choose a basis (for example, FourierBasis, other options can be found in docs)."
   ]
  },
  {
   "cell_type": "code",
   "execution_count": 6,
   "metadata": {},
   "outputs": [
    {
     "name": "stderr",
     "output_type": "stream",
     "text": [
      "┌ Info: Fourier basis is created.\n",
      "└ @ Main.StatReg /Users/ta_nyan/Documents/diploma/statreg_materials/StatReg.jl/src/basis.jl:118\n",
      "┌ Info: Legendre polynomials basis is created.\n",
      "└ @ Main.StatReg /Users/ta_nyan/Documents/diploma/statreg_materials/StatReg.jl/src/basis.jl:332\n"
     ]
    },
    {
     "ename": "UndefVarError",
     "evalue": "UndefVarError: gca not defined",
     "output_type": "error",
     "traceback": [
      "UndefVarError: gca not defined",
      "",
      "Stacktrace:",
      " [1] top-level scope at In[6]:12"
     ]
    }
   ],
   "source": [
    "num_of_basis_functions = Int(10)\n",
    "\n",
    "work_basis_fourier  = FourierBasis(a, b, num_of_basis_functions)\n",
    "#10 harmonics => 21 functions including harmony of Freq = 0, f = 0.5\n",
    "work_basis_legendre = LegendreBasis(a,b,num_of_basis_functions)\n",
    "\n",
    "x_high_prec_array = collect(range(a, stop=b, length=300))\n",
    "\n",
    "for index =1:5\n",
    "    plot(x_high_prec_array, work_basis_fourier.basis_functions[index].f.(x_high_prec_array))\n",
    "end\n",
    "gca().legend(\"12345\")\n",
    "title(\"fourier basis functions\")\n",
    "\n"
   ]
  },
  {
   "cell_type": "code",
   "execution_count": 7,
   "metadata": {},
   "outputs": [
    {
     "ename": "UndefVarError",
     "evalue": "UndefVarError: gca not defined",
     "output_type": "error",
     "traceback": [
      "UndefVarError: gca not defined",
      "",
      "Stacktrace:",
      " [1] top-level scope at In[7]:4"
     ]
    }
   ],
   "source": [
    "for index =1:6\n",
    "    plot(x_high_prec_array, work_basis_legendre.basis_functions[index].f.(x_high_prec_array))\n",
    "end\n",
    "gca().legend(\"123456\")\n",
    "title(\"legendre basis functions\")"
   ]
  },
  {
   "cell_type": "markdown",
   "metadata": {},
   "source": [
    " "
   ]
  },
  {
   "cell_type": "markdown",
   "metadata": {},
   "source": [
    "Now, we define a quadratic form of smoothing operator $\\Omega$"
   ]
  },
  {
   "cell_type": "code",
   "execution_count": 8,
   "metadata": {},
   "outputs": [
    {
     "name": "stderr",
     "output_type": "stream",
     "text": [
      "┌ Info: Calculating omega matrix for Fourier basis derivatives of order 1...\n",
      "└ @ Main.StatReg /Users/ta_nyan/Documents/diploma/statreg_materials/StatReg.jl/src/basis.jl:125\n",
      "┌ Info: Omega caclulated successfully.\n",
      "└ @ Main.StatReg /Users/ta_nyan/Documents/diploma/statreg_materials/StatReg.jl/src/basis.jl:141\n",
      "┌ Info: Calculating omega matrix for Legendre polynomials basis derivatives of order 1...\n",
      "└ @ Main.StatReg /Users/ta_nyan/Documents/diploma/statreg_materials/StatReg.jl/src/basis.jl:339\n",
      "┌ Info: Omega caclulated successfully.\n",
      "└ @ Main.StatReg /Users/ta_nyan/Documents/diploma/statreg_materials/StatReg.jl/src/basis.jl:365\n"
     ]
    },
    {
     "ename": "UndefVarError",
     "evalue": "UndefVarError: matshow not defined",
     "output_type": "error",
     "traceback": [
      "UndefVarError: matshow not defined",
      "",
      "Stacktrace:",
      " [1] top-level scope at In[8]:4"
     ]
    }
   ],
   "source": [
    "order_of_diff = Int(1) # = 1,the problem is that only 1 is Int32(1)\n",
    "operator_omega_fourier = omega(work_basis_fourier,order_of_diff)\n",
    "operator_omega_legendre = omega(work_basis_legendre,order_of_diff)\n",
    "matshow(operator_omega_fourier)\n",
    "colorbar()\n",
    "title(\"operator omega in fourier basis\")\n",
    "matshow(operator_omega_legendre)\n",
    "colorbar()\n",
    "title(\"operator omega in legendre basis\")"
   ]
  },
  {
   "cell_type": "markdown",
   "metadata": {},
   "source": [
    " "
   ]
  },
  {
   "cell_type": "markdown",
   "metadata": {},
   "source": [
    "Next step is to define the model"
   ]
  },
  {
   "cell_type": "code",
   "execution_count": 9,
   "metadata": {},
   "outputs": [
    {
     "name": "stderr",
     "output_type": "stream",
     "text": [
      "┌ Error: Lower limits of alphas should be provided for method=EmpiricalBayes\n",
      "└ @ Main.StatReg /Users/ta_nyan/Documents/diploma/statreg_materials/StatReg.jl/src/check.jl:53\n"
     ]
    },
    {
     "ename": "ErrorException",
     "evalue": "Lower limits of alphas should be provided for method=EmpiricalBayes",
     "output_type": "error",
     "traceback": [
      "Lower limits of alphas should be provided for method=EmpiricalBayes",
      "",
      "Stacktrace:",
      " [1] error(::String) at ./error.jl:33",
      " [2] check_args(::Array{Array{Float64,2},1}, ::String, ::Nothing, ::Nothing, ::Nothing, ::Nothing) at /Users/ta_nyan/Documents/diploma/statreg_materials/StatReg.jl/src/check.jl:54",
      " [3] (::getfield(Main.StatReg, Symbol(\"##GaussErrorMatrixUnfolder#71#72\")))(::Nothing, ::Nothing, ::Nothing, ::Nothing, ::Type, ::Array{Array{Float64,2},1}, ::String) at /Users/ta_nyan/Documents/diploma/statreg_materials/StatReg.jl/src/gauss_error.jl:58",
      " [4] (::getfield(Core, Symbol(\"#kw#Type\")))(::NamedTuple{(:alphas, :lower, :higher, :initial),NTuple{4,Nothing}}, ::Type{GaussErrorMatrixUnfolder}, ::Array{Array{Float64,2},1}, ::String) at ./none:0",
      " [5] (::getfield(Main.StatReg, Symbol(\"##GaussErrorUnfolder#73#74\")))(::Nothing, ::Nothing, ::Nothing, ::Nothing, ::Type, ::FourierBasis, ::Array{Array{Float64,2},1}, ::String) at /Users/ta_nyan/Documents/diploma/statreg_materials/StatReg.jl/src/gauss_error.jl:160",
      " [6] Type at /Users/ta_nyan/Documents/diploma/statreg_materials/StatReg.jl/src/gauss_error.jl:160 [inlined] (repeats 2 times)",
      " [7] top-level scope at In[9]:1"
     ]
    }
   ],
   "source": [
    "model_geu_fourier = GaussErrorUnfolder(work_basis_fourier, [operator_omega_fourier])\n",
    "model_geu_legendre = GaussErrorUnfolder(work_basis_legendre, [operator_omega_legendre])\n",
    "println()"
   ]
  },
  {
   "cell_type": "markdown",
   "metadata": {},
   "source": [
    "  "
   ]
  },
  {
   "cell_type": "markdown",
   "metadata": {},
   "source": [
    "Then we can get reconstructed function $\\phi(x)$ by method `solve`"
   ]
  },
  {
   "cell_type": "markdown",
   "metadata": {},
   "source": [
    "We will get phi_reconst_fourier and phi_reconst_legendre"
   ]
  },
  {
   "cell_type": "markdown",
   "metadata": {},
   "source": [
    "Also, we can easily get reconstrution of $\\phi(x)$ by substitution $f(x)$ in equatation "
   ]
  },
  {
   "cell_type": "markdown",
   "metadata": {},
   "source": [
    "$\\tau\\dot{U}_{out} = -U_{out}+U_{in}$"
   ]
  },
  {
   "cell_type": "markdown",
   "metadata": {},
   "source": [
    "So, as $U_{in} = \\phi, U_{out} = f(x), \\tau = 1$"
   ]
  },
  {
   "cell_type": "markdown",
   "metadata": {},
   "source": [
    "then $\\phi(x) = f(x)+\\dot{f(}x)$"
   ]
  },
  {
   "cell_type": "markdown",
   "metadata": {},
   "source": [
    "The only problem is that noise after differentiation can turn to a very hopping function (graph \"reconstructions\")"
   ]
  },
  {
   "cell_type": "markdown",
   "metadata": {},
   "source": [
    " "
   ]
  },
  {
   "cell_type": "markdown",
   "metadata": {},
   "source": [
    "So, let's reconstruct by StatReg"
   ]
  },
  {
   "cell_type": "code",
   "execution_count": 10,
   "metadata": {},
   "outputs": [
    {
     "ename": "UndefVarError",
     "evalue": "UndefVarError: model_geu_fourier not defined",
     "output_type": "error",
     "traceback": [
      "UndefVarError: model_geu_fourier not defined",
      "",
      "Stacktrace:",
      " [1] top-level scope at In[10]:1"
     ]
    }
   ],
   "source": [
    "phi_reconst_fourier = solve(model_geu_fourier, kernel, f_measured_array, max_eps_array, x)\n",
    "phi_reconst_legendre = solve(model_geu_legendre, kernel, f_measured_array, max_eps_array, x)"
   ]
  },
  {
   "cell_type": "code",
   "execution_count": 11,
   "metadata": {},
   "outputs": [
    {
     "ename": "UndefVarError",
     "evalue": "UndefVarError: phi_reconst_fourier not defined",
     "output_type": "error",
     "traceback": [
      "UndefVarError: phi_reconst_fourier not defined",
      "",
      "Stacktrace:",
      " [1] top-level scope at In[11]:1"
     ]
    }
   ],
   "source": [
    "phi_reconst_from_fourier = PhiVec(phi_reconst_fourier[\"coeff\"], work_basis_fourier, phi_reconst_fourier[\"errors\"])\n",
    "phi_reconst_from_legendre = PhiVec(phi_reconst_legendre[\"coeff\"], work_basis_legendre, phi_reconst_legendre[\"errors\"])\n",
    "println()"
   ]
  },
  {
   "cell_type": "markdown",
   "metadata": {},
   "source": [
    "Reconstructing by the straight method $\\phi(x) = f(x)+\\dot{f(}x)$"
   ]
  },
  {
   "cell_type": "code",
   "execution_count": 12,
   "metadata": {},
   "outputs": [
    {
     "ename": "UndefVarError",
     "evalue": "UndefVarError: f_measured_array not defined",
     "output_type": "error",
     "traceback": [
      "UndefVarError: f_measured_array not defined",
      "",
      "Stacktrace:",
      " [1] top-level scope at ./In[12]:2"
     ]
    }
   ],
   "source": [
    "dfdx = []\n",
    "for i=1:(length(f_measured_array)-1)\n",
    "    push!(dfdx, (f_measured_array[i+1]-f_measured_array[i])/(x[i+1]-x[i]) )\n",
    "end\n",
    "push!(dfdx,dfdx[length(f_measured_array)-1])\n",
    "phi_straight = dfdx + f_measured_array\n",
    "println()"
   ]
  },
  {
   "cell_type": "code",
   "execution_count": 13,
   "metadata": {},
   "outputs": [
    {
     "ename": "UndefVarError",
     "evalue": "UndefVarError: phi_reconst_from_legendre not defined",
     "output_type": "error",
     "traceback": [
      "UndefVarError: phi_reconst_from_legendre not defined",
      "",
      "Stacktrace:",
      " [1] top-level scope at In[13]:1"
     ]
    }
   ],
   "source": [
    "phi_reconst_legendre_values = phi_reconst_from_legendre.phi_function.(x)\n",
    "phi_reconst_legendre_errors = phi_reconst_from_legendre.error_function.(x)\n",
    "\n",
    "phi_reconst_fourier_values = phi_reconst_from_fourier.phi_function.(x)\n",
    "phi_reconst_fourier_errors = phi_reconst_from_fourier.error_function.(x)\n",
    "\n",
    "plot(x,phi.(x))\n",
    "plot(x,phi_reconst_legendre_values)\n",
    "plot(x,phi_reconst_fourier_values)\n",
    "plot(x,phi_straight)\n",
    "gca().legend((\"phi_real\",\"phi_reconstructed_legendre\",\"phi_reconst_fourier\",\"phi_straight\"))\n",
    "gca().grid()\n",
    "title(\"reconstructions\")\n",
    "println()"
   ]
  }
 ],
 "metadata": {
  "@webio": {
   "lastCommId": null,
   "lastKernelId": null
  },
  "hide_input": false,
  "kernelspec": {
   "display_name": "Julia 1.1.0",
   "language": "julia",
   "name": "julia-1.1"
  },
  "language_info": {
   "file_extension": ".jl",
   "mimetype": "application/julia",
   "name": "julia",
   "version": "1.1.0"
  }
 },
 "nbformat": 4,
 "nbformat_minor": 2
}
