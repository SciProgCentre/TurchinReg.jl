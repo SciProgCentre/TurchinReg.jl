{
 "cells": [
  {
   "cell_type": "code",
   "execution_count": null,
   "metadata": {},
   "outputs": [],
   "source": [
    "include(\"../src/StatReg.jl\")\n",
    "using .StatReg"
   ]
  },
  {
   "cell_type": "markdown",
   "metadata": {},
   "source": [
    "Define target function $\\varphi(x) = \\frac{\\sin(x)}{x}$ with support $[-20,20]$:"
   ]
  },
  {
   "cell_type": "code",
   "execution_count": null,
   "metadata": {},
   "outputs": [],
   "source": [
    "using Plots\n",
    "plotly()\n",
    "gr(size=(500,500), html_output_format=:png)\n",
    "\n",
    "a = -20.\n",
    "b = 20.\n",
    "\n",
    "function phi(x::Real)\n",
    "    if x != 0\n",
    "        return sin(x)/x\n",
    "    else\n",
    "        return 1\n",
    "    end\n",
    "end\n",
    "\n",
    "x = collect(range(a, stop=b, length=300))\n",
    "myplot = plot(x, phi.(x), title=\"Real phi function\",label=[\"Phi(x)\"])"
   ]
  },
  {
   "cell_type": "markdown",
   "metadata": {},
   "source": [
    "We will use diffraction kernel $K(x, y)$. $f(y)$ is an observed function, we need it to find the target function."
   ]
  },
  {
   "cell_type": "code",
   "execution_count": null,
   "metadata": {},
   "outputs": [],
   "source": [
    "kernel(x::Real, y::Real) = getOpticsKernels(\"diffraction\")(x, y)\n",
    "\n",
    "using QuadGK\n",
    "include(\"C:/Users/user/.julia/dev/StatReg/src/kernels.jl\")\n",
    "convolution = y -> quadgk(x -> kernel(x,y) * phi(x), a, b, rtol=10^-5, maxevals=10^7)[1]\n",
    "y = collect(range(a, stop=b, length=30))\n",
    "ftrue = convolution.(y)\n",
    "myplot1 = plot(y, ftrue, label = \"phi(x)\")"
   ]
  },
  {
   "cell_type": "markdown",
   "metadata": {},
   "source": [
    "Generation of noise (measurement errors):"
   ]
  },
  {
   "cell_type": "code",
   "execution_count": null,
   "metadata": {},
   "outputs": [],
   "source": [
    "sig = ftrue*0.1 + [0.01 for i = 1:Base.length(ftrue)]\n",
    "\n",
    "using Compat, Random, Distributions\n",
    "noise = []\n",
    "Random.seed!(1234)\n",
    "for sigma in sig\n",
    "    n = rand(Normal(0., abs(sigma)), 1)[1]\n",
    "    push!(noise, n)\n",
    "end\n",
    "\n",
    "f = ftrue + noise\n",
    "plot(y, f, title = \"Integrated function\", label = [\"f(y)\"], seriestype=:scatter, yerr=sig)\n",
    "plot!(y, f, label = \"f(y)\")"
   ]
  },
  {
   "cell_type": "markdown",
   "metadata": {},
   "source": [
    "We will use a Fourier Basis with 17 functions:"
   ]
  },
  {
   "cell_type": "code",
   "execution_count": null,
   "metadata": {},
   "outputs": [],
   "source": [
    "basis = FourierBasis(a, b, 8)\n",
    "p = plot()\n",
    "for func in basis.basis_functions\n",
    "    p = plot!(x, func.f.(x), title=\"Fourier basis functions\", legend=false, show = true)\n",
    "end\n",
    "display(p)"
   ]
  },
  {
   "cell_type": "code",
   "execution_count": null,
   "metadata": {},
   "outputs": [],
   "source": [
    "Omega = omega(basis, 2)\n",
    "model = GaussErrorUnfolder(basis, [Omega], \"EmpiricalBayes\", nothing, [1e-8], [10.], [0.3])\n",
    "println()\n",
    "\n",
    "result = solve(model, kernel, f, sig, y)\n",
    "println()\n",
    "\n",
    "phivec = PhiVec(result, basis)\n",
    "\n",
    "phi_reconstructed = phivec.phi_function.(x)\n",
    "phi_reconstructed_errors = phivec.error_function.(x)\n",
    "\n",
    "plot(x, phi_reconstructed, ribbon=phi_reconstructed_errors, fillalpha=0.3, label=\"Reconstructed function with errors\")\n",
    "plot!(x, phi.(x), label=\"Real function\")"
   ]
  },
  {
   "cell_type": "code",
   "execution_count": null,
   "metadata": {},
   "outputs": [],
   "source": []
  }
 ],
 "metadata": {
  "@webio": {
   "lastCommId": null,
   "lastKernelId": null
  },
  "hide_input": false,
  "kernelspec": {
   "display_name": "Julia 1.1.0",
   "language": "julia",
   "name": "julia-1.1"
  },
  "language_info": {
   "file_extension": ".jl",
   "mimetype": "application/julia",
   "name": "julia",
   "version": "1.1.0"
  }
 },
 "nbformat": 4,
 "nbformat_minor": 2
}
