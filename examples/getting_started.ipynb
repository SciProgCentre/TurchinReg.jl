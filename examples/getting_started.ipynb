{
 "cells": [
  {
   "cell_type": "code",
   "execution_count": 1,
   "metadata": {},
   "outputs": [],
   "source": [
    "# using Revise\n",
    "include(\"../src/StatReg.jl\")\n",
    "using .StatReg"
   ]
  },
  {
   "cell_type": "code",
   "execution_count": 2,
   "metadata": {},
   "outputs": [],
   "source": [
    "using Plots\n",
    "plotly()\n",
    "gr(size=(500,500), html_output_format=:png)\n",
    "\n",
    "a = 0\n",
    "b = 6.\n",
    "\n",
    "function phi(x::Real)\n",
    "    mu1 = 2.\n",
    "    mu2 = 4.\n",
    "    n1 = 4.\n",
    "    n2 = 2.\n",
    "    sig1 = 0.4\n",
    "    sig2 = 0.5\n",
    "    norm(n, mu, sig, x) = n / sqrt(2 * pi*sig^2) * exp(-(x - mu)^2 / (2 * sig^2))\n",
    "    return norm(n1, mu1, sig1, x) + norm(n2, mu2, sig2, x)\n",
    "end\n",
    "\n",
    "x = collect(range(a, stop=b, length=300));\n",
    "# plot(x, phi.(x), title=\"Real phi function\", label=\"Phi(x)\")\n",
    "# savefig(\"real_phi.png\")"
   ]
  },
  {
   "cell_type": "code",
   "execution_count": 3,
   "metadata": {},
   "outputs": [],
   "source": [
    "using QuadGK\n",
    "kernel_name = \"rectangular\"\n",
    "kernel(x::Real, y::Real) = getOpticsKernels(kernel_name)(x, y)\n",
    "\n",
    "convolution = y -> quadgk(x -> kernel(x,y) * phi(x), a, b, rtol=10^-5, maxevals=10^7)[1]\n",
    "y = collect(range(a, stop=b, length=30))\n",
    "ftrue = convolution.(y)\n",
    "\n",
    "sig = 0.1*ftrue + [0.01 for i = 1:Base.length(ftrue)]\n",
    "\n",
    "using Compat, Random, Distributions\n",
    "noise = []\n",
    "# Random.seed!(1234)\n",
    "for sigma in sig\n",
    "    n = rand(Normal(0., sigma), 1)[1]\n",
    "    push!(noise, n)\n",
    "end\n",
    "\n",
    "f = ftrue + noise;\n",
    "# plot(y, f, title=\"$(kernel_name) kernel\", label=\"f(y)\", seriestype=:scatter, yerr=sig)\n",
    "# savefig(\"integrated_$(kernel_name).png\")"
   ]
  },
  {
   "cell_type": "code",
   "execution_count": 4,
   "metadata": {},
   "outputs": [],
   "source": [
    "basis = CubicSplineBasis(y, \"dirichlet\");\n",
    "# p = plot()\n",
    "# for func in basis.basis_functions\n",
    "#     p = plot!(x, func.(x), title=\"B-spline basis functions\", legend=false, show = true)\n",
    "# end\n",
    "# display(p)\n",
    "# savefig(\"basis.png\")"
   ]
  },
  {
   "cell_type": "code",
   "execution_count": 7,
   "metadata": {},
   "outputs": [
    {
     "name": "stderr",
     "output_type": "stream",
     "text": [
      "┌ Info: Checking data\n",
      "└ @ Main.StatReg /Users/ta_nyan/Documents/diploma/StatReg.jl/src/solvers/solve.jl:29\n",
      "┌ Info: Starting discretize kernel...\n",
      "└ @ Main.StatReg /Users/ta_nyan/Documents/diploma/StatReg.jl/src/bases/utils.jl:20\n",
      "┌ Info: Kernel was discretized successfully.\n",
      "└ @ Main.StatReg /Users/ta_nyan/Documents/diploma/StatReg.jl/src/bases/utils.jl:32\n",
      "┌ Info: Finding optimal alpha\n",
      "└ @ Main.StatReg /Users/ta_nyan/Documents/diploma/StatReg.jl/src/solvers/solve.jl:35\n",
      "┌ Info: Optimal alpha found\n",
      "└ @ Main.StatReg /Users/ta_nyan/Documents/diploma/StatReg.jl/src/solvers/solve.jl:37\n",
      "┌ Info: Starting solution\n",
      "└ @ Main.StatReg /Users/ta_nyan/Documents/diploma/StatReg.jl/src/solvers/solve.jl:54\n",
      "┌ Info: Starting sampling\n",
      "└ @ Main.StatReg /Users/ta_nyan/Documents/diploma/StatReg.jl/src/solvers/bat.jl:33\n",
      "┌ Info: Trying to generate 2 viable MCMC chain(s).\n",
      "└ @ BAT /Users/ta_nyan/.julia/packages/BAT/WqhSP/src/samplers/mcmc/mcmc_tuner.jl:206\n",
      "┌ Info: Selected 2 MCMC chain(s).\n",
      "└ @ BAT /Users/ta_nyan/.julia/packages/BAT/WqhSP/src/samplers/mcmc/mcmc_tuner.jl:317\n",
      "┌ Info: Begin tuning of 2 MCMC chain(s).\n",
      "└ @ BAT /Users/ta_nyan/.julia/packages/BAT/WqhSP/src/samplers/mcmc/mcmc_tuner.jl:72\n",
      "┌ Info: MCMC Tuning cycle 1 finished, 2 chains, 0 tuned, 0 converged.\n",
      "└ @ BAT /Users/ta_nyan/.julia/packages/BAT/WqhSP/src/samplers/mcmc/mcmc_tuner.jl:105\n",
      "┌ Info: MCMC Tuning cycle 2 finished, 2 chains, 0 tuned, 0 converged.\n",
      "└ @ BAT /Users/ta_nyan/.julia/packages/BAT/WqhSP/src/samplers/mcmc/mcmc_tuner.jl:105\n",
      "┌ Info: MCMC Tuning cycle 3 finished, 2 chains, 0 tuned, 0 converged.\n",
      "└ @ BAT /Users/ta_nyan/.julia/packages/BAT/WqhSP/src/samplers/mcmc/mcmc_tuner.jl:105\n",
      "┌ Info: MCMC Tuning cycle 4 finished, 2 chains, 0 tuned, 0 converged.\n",
      "└ @ BAT /Users/ta_nyan/.julia/packages/BAT/WqhSP/src/samplers/mcmc/mcmc_tuner.jl:105\n",
      "┌ Info: MCMC Tuning cycle 5 finished, 2 chains, 0 tuned, 0 converged.\n",
      "└ @ BAT /Users/ta_nyan/.julia/packages/BAT/WqhSP/src/samplers/mcmc/mcmc_tuner.jl:105\n",
      "┌ Info: MCMC Tuning cycle 6 finished, 2 chains, 0 tuned, 0 converged.\n",
      "└ @ BAT /Users/ta_nyan/.julia/packages/BAT/WqhSP/src/samplers/mcmc/mcmc_tuner.jl:105\n",
      "┌ Info: MCMC Tuning cycle 7 finished, 2 chains, 1 tuned, 0 converged.\n",
      "└ @ BAT /Users/ta_nyan/.julia/packages/BAT/WqhSP/src/samplers/mcmc/mcmc_tuner.jl:105\n",
      "┌ Info: MCMC Tuning cycle 8 finished, 2 chains, 2 tuned, 0 converged.\n",
      "└ @ BAT /Users/ta_nyan/.julia/packages/BAT/WqhSP/src/samplers/mcmc/mcmc_tuner.jl:105\n",
      "┌ Info: MCMC Tuning cycle 9 finished, 2 chains, 2 tuned, 0 converged.\n",
      "└ @ BAT /Users/ta_nyan/.julia/packages/BAT/WqhSP/src/samplers/mcmc/mcmc_tuner.jl:105\n",
      "┌ Info: MCMC Tuning cycle 10 finished, 2 chains, 2 tuned, 0 converged.\n",
      "└ @ BAT /Users/ta_nyan/.julia/packages/BAT/WqhSP/src/samplers/mcmc/mcmc_tuner.jl:105\n",
      "┌ Info: MCMC Tuning cycle 11 finished, 2 chains, 1 tuned, 0 converged.\n",
      "└ @ BAT /Users/ta_nyan/.julia/packages/BAT/WqhSP/src/samplers/mcmc/mcmc_tuner.jl:105\n",
      "┌ Info: MCMC Tuning cycle 12 finished, 2 chains, 1 tuned, 0 converged.\n",
      "└ @ BAT /Users/ta_nyan/.julia/packages/BAT/WqhSP/src/samplers/mcmc/mcmc_tuner.jl:105\n",
      "┌ Info: MCMC Tuning cycle 13 finished, 2 chains, 1 tuned, 0 converged.\n",
      "└ @ BAT /Users/ta_nyan/.julia/packages/BAT/WqhSP/src/samplers/mcmc/mcmc_tuner.jl:105\n",
      "┌ Info: MCMC Tuning cycle 14 finished, 2 chains, 0 tuned, 0 converged.\n",
      "└ @ BAT /Users/ta_nyan/.julia/packages/BAT/WqhSP/src/samplers/mcmc/mcmc_tuner.jl:105\n",
      "┌ Info: MCMC Tuning cycle 15 finished, 2 chains, 0 tuned, 0 converged.\n",
      "└ @ BAT /Users/ta_nyan/.julia/packages/BAT/WqhSP/src/samplers/mcmc/mcmc_tuner.jl:105\n",
      "┌ Info: MCMC Tuning cycle 16 finished, 2 chains, 1 tuned, 0 converged.\n",
      "└ @ BAT /Users/ta_nyan/.julia/packages/BAT/WqhSP/src/samplers/mcmc/mcmc_tuner.jl:105\n",
      "┌ Info: MCMC Tuning cycle 17 finished, 2 chains, 1 tuned, 0 converged.\n",
      "└ @ BAT /Users/ta_nyan/.julia/packages/BAT/WqhSP/src/samplers/mcmc/mcmc_tuner.jl:105\n",
      "┌ Info: MCMC Tuning cycle 18 finished, 2 chains, 2 tuned, 0 converged.\n",
      "└ @ BAT /Users/ta_nyan/.julia/packages/BAT/WqhSP/src/samplers/mcmc/mcmc_tuner.jl:105\n",
      "┌ Info: MCMC Tuning cycle 19 finished, 2 chains, 2 tuned, 0 converged.\n",
      "└ @ BAT /Users/ta_nyan/.julia/packages/BAT/WqhSP/src/samplers/mcmc/mcmc_tuner.jl:105\n",
      "┌ Info: MCMC Tuning cycle 20 finished, 2 chains, 1 tuned, 0 converged.\n",
      "└ @ BAT /Users/ta_nyan/.julia/packages/BAT/WqhSP/src/samplers/mcmc/mcmc_tuner.jl:105\n",
      "┌ Info: MCMC Tuning cycle 21 finished, 2 chains, 2 tuned, 0 converged.\n",
      "└ @ BAT /Users/ta_nyan/.julia/packages/BAT/WqhSP/src/samplers/mcmc/mcmc_tuner.jl:105\n",
      "┌ Info: MCMC Tuning cycle 22 finished, 2 chains, 2 tuned, 0 converged.\n",
      "└ @ BAT /Users/ta_nyan/.julia/packages/BAT/WqhSP/src/samplers/mcmc/mcmc_tuner.jl:105\n",
      "┌ Info: MCMC Tuning cycle 23 finished, 2 chains, 2 tuned, 0 converged.\n",
      "└ @ BAT /Users/ta_nyan/.julia/packages/BAT/WqhSP/src/samplers/mcmc/mcmc_tuner.jl:105\n",
      "┌ Info: MCMC Tuning cycle 24 finished, 2 chains, 2 tuned, 0 converged.\n",
      "└ @ BAT /Users/ta_nyan/.julia/packages/BAT/WqhSP/src/samplers/mcmc/mcmc_tuner.jl:105\n",
      "┌ Info: MCMC Tuning cycle 25 finished, 2 chains, 1 tuned, 0 converged.\n",
      "└ @ BAT /Users/ta_nyan/.julia/packages/BAT/WqhSP/src/samplers/mcmc/mcmc_tuner.jl:105\n",
      "┌ Info: MCMC Tuning cycle 26 finished, 2 chains, 1 tuned, 0 converged.\n",
      "└ @ BAT /Users/ta_nyan/.julia/packages/BAT/WqhSP/src/samplers/mcmc/mcmc_tuner.jl:105\n",
      "┌ Info: MCMC Tuning cycle 27 finished, 2 chains, 2 tuned, 0 converged.\n",
      "└ @ BAT /Users/ta_nyan/.julia/packages/BAT/WqhSP/src/samplers/mcmc/mcmc_tuner.jl:105\n",
      "┌ Info: MCMC Tuning cycle 28 finished, 2 chains, 2 tuned, 0 converged.\n",
      "└ @ BAT /Users/ta_nyan/.julia/packages/BAT/WqhSP/src/samplers/mcmc/mcmc_tuner.jl:105\n",
      "┌ Info: MCMC Tuning cycle 29 finished, 2 chains, 2 tuned, 0 converged.\n",
      "└ @ BAT /Users/ta_nyan/.julia/packages/BAT/WqhSP/src/samplers/mcmc/mcmc_tuner.jl:105\n",
      "┌ Info: MCMC Tuning cycle 30 finished, 2 chains, 2 tuned, 0 converged.\n",
      "└ @ BAT /Users/ta_nyan/.julia/packages/BAT/WqhSP/src/samplers/mcmc/mcmc_tuner.jl:105\n",
      "┌ Warning: MCMC tuning of 2 chains aborted after 30 cycle(s).\n",
      "└ @ BAT /Users/ta_nyan/.julia/packages/BAT/WqhSP/src/samplers/mcmc/mcmc_tuner.jl:115\n"
     ]
    },
    {
     "name": "stdout",
     "output_type": "stream",
     "text": [
      "636.346470 seconds (232.83 M allocations: 285.667 GiB, 8.25% gc time)\n",
      "651.626306 seconds (679.90 M allocations: 296.952 GiB, 8.69% gc time)\n"
     ]
    },
    {
     "name": "stderr",
     "output_type": "stream",
     "text": [
      "┌ Info: Solved with BAT.jl\n",
      "└ @ Main.StatReg /Users/ta_nyan/Documents/diploma/StatReg.jl/src/solvers/bat.jl:37\n"
     ]
    }
   ],
   "source": [
    "Omega = omega(basis, 2)\n",
    "using BAT\n",
    "\n",
    "@time result = solve(\n",
    "    basis,\n",
    "    f,\n",
    "    sig,\n",
    "    kernel,\n",
    "    y,\n",
    "    BATSampling(nothing, MetropolisHastings(), 2, 1000),\n",
    "#     AHMCSampling(nothing, 1, 1000000),\n",
    "#     DHMCSampling(nothing, 1, 10000),\n",
    "    Marginalize(),\n",
    "    [Omega],\n",
    "    PhiBounds(),\n",
    "    );\n",
    "\n",
    "\n"
   ]
  },
  {
   "cell_type": "code",
   "execution_count": 8,
   "metadata": {},
   "outputs": [
    {
     "data": {
      "image/png": "[encoded data removed]"
     },
     "execution_count": 8,
     "metadata": {},
     "output_type": "execute_result"
    }
   ],
   "source": [
    "phi_reconstructed = result.solution_function.(x)\n",
    "phi_reconstructed_errors = result.error_function.(x)\n",
    "\n",
    "plot(x, phi_reconstructed, ribbon=phi_reconstructed_errors, fillalpha=0.3, label=\"Reconstructed function with errors\")\n",
    "plot!(x, phi.(x), label=\"Real function\")\n",
    "# # savefig(\"reconstructed.png\")"
   ]
  },
  {
   "cell_type": "code",
   "execution_count": null,
   "metadata": {},
   "outputs": [],
   "source": []
  }
 ],
 "metadata": {
  "@webio": {
   "lastCommId": null,
   "lastKernelId": null
  },
  "hide_input": false,
  "kernelspec": {
   "display_name": "Julia 1.1.0",
   "language": "julia",
   "name": "julia-1.1"
  },
  "language_info": {
   "file_extension": ".jl",
   "mimetype": "application/julia",
   "name": "julia",
   "version": "1.1.0"
  }
 },
 "nbformat": 4,
 "nbformat_minor": 2
}
