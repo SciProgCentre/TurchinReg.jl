{
 "cells": [
  {
   "cell_type": "code",
   "execution_count": 1,
   "metadata": {},
   "outputs": [
    {
     "data": {
      "image/png": "[encoded data removed]",
      "text/plain": [
       "Figure(PyObject <Figure size 640x480 with 1 Axes>)"
      ]
     },
     "metadata": {},
     "output_type": "display_data"
    },
    {
     "data": {
      "text/plain": [
       "1-element Array{PyObject,1}:\n",
       " PyObject <matplotlib.lines.Line2D object at 0x1272cf518>"
      ]
     },
     "execution_count": 1,
     "metadata": {},
     "output_type": "execute_result"
    }
   ],
   "source": [
    "using PyCall\n",
    "include(\"src/gauss_error.jl\")\n",
    "include(\"src/kernels.jl\")\n",
    "\n",
    "a = 0.\n",
    "b = 6.\n",
    "\n",
    "function phi(x::Float64)\n",
    "    mu1 = 2.\n",
    "    mu2 = 4.\n",
    "    n1 = 4.\n",
    "    n2 = 2.\n",
    "    sig1 = 0.4\n",
    "    sig2 = 0.5\n",
    "\n",
    "    norm(n, mu, sig, x) = n / sqrt(2 * pi*sig^2) * exp(-(x - mu)^2 / (2 * sig^2))\n",
    "    return norm(n1, mu1, sig1, x) + norm(n2, mu2, sig2, x)\n",
    "end\n",
    "\n",
    "x = collect(range(a, stop=b, length=300))\n",
    "\n",
    "using PyPlot\n",
    "myplot = plot(x, phi.(x))"
   ]
  },
  {
   "cell_type": "code",
   "execution_count": 2,
   "metadata": {},
   "outputs": [
    {
     "data": {
      "text/plain": [
       "kernel (generic function with 1 method)"
      ]
     },
     "execution_count": 2,
     "metadata": {},
     "output_type": "execute_result"
    }
   ],
   "source": [
    "function kernel(x::Float64, y::Float64)\n",
    "    return getOpticsKernels(\"triangular\")(x, y)\n",
    "end"
   ]
  },
  {
   "cell_type": "code",
   "execution_count": 3,
   "metadata": {},
   "outputs": [
    {
     "data": {
      "text/plain": [
       "#59 (generic function with 1 method)"
      ]
     },
     "execution_count": 3,
     "metadata": {},
     "output_type": "execute_result"
    }
   ],
   "source": [
    "convolution = y -> quadgk(x -> kernel(x,y) * phi(x), a, b, rtol=10^-5, maxevals=10^7)[1]"
   ]
  },
  {
   "cell_type": "code",
   "execution_count": 4,
   "metadata": {},
   "outputs": [
    {
     "data": {
      "text/plain": [
       "50-element Array{Float64,1}:\n",
       " 0.0                \n",
       " 0.12244897959183673\n",
       " 0.24489795918367346\n",
       " 0.3673469387755102 \n",
       " 0.4897959183673469 \n",
       " 0.6122448979591837 \n",
       " 0.7346938775510204 \n",
       " 0.8571428571428571 \n",
       " 0.9795918367346939 \n",
       " 1.1020408163265305 \n",
       " 1.2244897959183674 \n",
       " 1.346938775510204  \n",
       " 1.469387755102041  \n",
       " ⋮                  \n",
       " 4.653061224489796  \n",
       " 4.775510204081633  \n",
       " 4.8979591836734695 \n",
       " 5.020408163265306  \n",
       " 5.142857142857143  \n",
       " 5.26530612244898   \n",
       " 5.387755102040816  \n",
       " 5.510204081632653  \n",
       " 5.63265306122449   \n",
       " 5.755102040816326  \n",
       " 5.877551020408164  \n",
       " 6.0                "
      ]
     },
     "execution_count": 4,
     "metadata": {},
     "output_type": "execute_result"
    }
   ],
   "source": [
    "y = collect(range(a, stop=b, length=50))"
   ]
  },
  {
   "cell_type": "code",
   "execution_count": null,
   "metadata": {},
   "outputs": [],
   "source": [
    "ftrue = convolution.(y)\n",
    "sig = 0.05*ftrue + [0.01 for i = 1:Base.length(ftrue)]\n",
    "using Compat, Random, Distributions\n",
    "noise = []\n",
    "for sigma in sig\n",
    "    n = rand(Normal(0., sigma), 1)[1]\n",
    "    push!(noise, n)\n",
    "end\n",
    "f = ftrue + noise\n",
    "plot(y, f)"
   ]
  },
  {
   "cell_type": "code",
   "execution_count": null,
   "metadata": {},
   "outputs": [],
   "source": [
    "basis = FourierBasis(a, b, 25)"
   ]
  },
  {
   "cell_type": "code",
   "execution_count": null,
   "metadata": {},
   "outputs": [],
   "source": [
    "model = GaussErrorUnfolder(basis, omega(basis, 2))"
   ]
  },
  {
   "cell_type": "code",
   "execution_count": null,
   "metadata": {},
   "outputs": [],
   "source": [
    "phi_reconstruct = solve(model, kernel, f, sig, y)"
   ]
  },
  {
   "cell_type": "code",
   "execution_count": null,
   "metadata": {},
   "outputs": [],
   "source": [
    "phivec = PhiVec(phi_reconstruct[\"coeff\"], basis, phi_reconstruct[\"sig\"])"
   ]
  },
  {
   "cell_type": "code",
   "execution_count": null,
   "metadata": {},
   "outputs": [],
   "source": [
    "plot(x, phi.(x))\n",
    "\n",
    "phi_reconstructed = call(phivec, x)\n",
    "phi_reconstructed_errors = errors(phivec, x)\n",
    "\n",
    "plot(x, call(phivec, x))\n",
    "fill_between(x, phi_reconstructed - phi_reconstructed_errors, phi_reconstructed + phi_reconstructed_errors, alpha=0.3);"
   ]
  },
  {
   "cell_type": "code",
   "execution_count": null,
   "metadata": {},
   "outputs": [],
   "source": []
  },
  {
   "cell_type": "code",
   "execution_count": null,
   "metadata": {},
   "outputs": [],
   "source": []
  }
 ],
 "metadata": {
  "kernelspec": {
   "display_name": "Julia 1.1.0",
   "language": "julia",
   "name": "julia-1.1"
  },
  "language_info": {
   "file_extension": ".jl",
   "mimetype": "application/julia",
   "name": "julia",
   "version": "1.1.0"
  }
 },
 "nbformat": 4,
 "nbformat_minor": 2
}
