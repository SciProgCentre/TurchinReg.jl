{
 "cells": [
  {
   "cell_type": "code",
   "execution_count": null,
   "metadata": {
    "collapsed": true
   },
   "outputs": [],
   "source": [
    "using PyCall\n",
    "println(\"ok\")\n",
    "include(\"src/gauss_error.jl\")\n",
    "println(\"ok1\")\n",
    "\n",
    "a = 0\n",
    "b = 5\n",
    "\n",
    "function phi(x)\n",
    "    mu1 = 2.\n",
    "    mu2 = 4.\n",
    "    n1 = 4.\n",
    "    n2 = 2.\n",
    "    sig1 = 0.4\n",
    "    sig2 = 0.5\n",
    "\n",
    "    norm(n, mu, sig, x) = n / sqrt(2 * pi*sig^2) * exp(-(x - mu)^2 / (2 * sig^2))\n",
    "    return norm(n1, mu1, sig1, x) + norm(n2, mu2, sig2, x)\n",
    "end\n",
    "\n",
    "x = range(a, stop=b, length=100)\n",
    "println(x)\n",
    "\n",
    "println(\"ok3\")\n",
    "\n",
    "using PyPlot\n",
    "\n",
    "println(phi.(x))\n",
    "\n",
    "myplot = plot(x, phi.(x))\n"
   ]
  }
 ],
 "metadata": {
  "kernelspec": {
   "display_name": "Python 2",
   "language": "python",
   "name": "python2"
  },
  "language_info": {
   "codemirror_mode": {
    "name": "ipython",
    "version": 2
   },
   "file_extension": ".py",
   "mimetype": "text/x-python",
   "name": "python",
   "nbconvert_exporter": "python",
   "pygments_lexer": "ipython2",
   "version": "2.7.6"
  }
 },
 "nbformat": 4,
 "nbformat_minor": 0
}
