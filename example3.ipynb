{
 "cells": [
  {
   "cell_type": "code",
   "execution_count": null,
   "metadata": {},
   "outputs": [],
   "source": [
    "using PyCall\n",
    "include(\"src/gauss_error.jl\")\n",
    "include(\"src/kernels.jl\")\n",
    "\n",
    "a = 0.\n",
    "b = 6.\n",
    "\n",
    "function phi(x::Float64)\n",
    "    mu1 = 2.\n",
    "    mu2 = 4.\n",
    "    n1 = 4.\n",
    "    n2 = 2.\n",
    "    sig1 = 0.4\n",
    "    sig2 = 0.5\n",
    "\n",
    "    norm(n, mu, sig, x) = n / sqrt(2 * pi*sig^2) * exp(-(x - mu)^2 / (2 * sig^2))\n",
    "    return norm(n1, mu1, sig1, x) + norm(n2, mu2, sig2, x)\n",
    "end\n",
    "\n",
    "# function phi(x::Float64)\n",
    "#     return cos(x)\n",
    "# end\n",
    "\n",
    "x = collect(range(a, stop=b, length=300))\n",
    "\n",
    "using PyPlot\n",
    "myplot = plot(x, phi.(x))"
   ]
  },
  {
   "cell_type": "code",
   "execution_count": null,
   "metadata": {},
   "outputs": [],
   "source": [
    "function kernel(x::Float64, y::Float64)\n",
    "    return getOpticsKernels(\"triangular\")(x, y)\n",
    "end"
   ]
  },
  {
   "cell_type": "code",
   "execution_count": null,
   "metadata": {},
   "outputs": [],
   "source": [
    "convolution = y -> quadgk(x -> kernel(x,y) * phi(x), a, b, maxevals=10^7)[1]\n",
    "y = collect(range(a, stop = b, length=50))\n",
    "ftrue = convolution.(y)\n",
    "sig = 0.05*abs.(ftrue) +[0.01 for i = 1:Base.length(ftrue)]\n",
    "using Compat, Random, Distributions\n",
    "noise = []\n",
    "for sigma in sig\n",
    "    n = rand(Normal(0., sigma), 1)[1]\n",
    "    push!(noise, n)\n",
    "end\n",
    "f = ftrue + noise\n",
    "plot(y, f)"
   ]
  },
  {
   "cell_type": "code",
   "execution_count": null,
   "metadata": {},
   "outputs": [],
   "source": [
    "basis = FourierBasis(a, b, 25)"
   ]
  },
  {
   "cell_type": "code",
   "execution_count": null,
   "metadata": {},
   "outputs": [],
   "source": [
    "# @time discretize_kernel(basis, kernel, y)\n",
    "\n",
    "Kmn = discretize_kernel(basis, kernel, y)"
   ]
  },
  {
   "cell_type": "code",
   "execution_count": null,
   "metadata": {},
   "outputs": [],
   "source": [
    "model = model = GaussErrorMatrixUnfolder(omega(basis, 2))"
   ]
  },
  {
   "cell_type": "code",
   "execution_count": null,
   "metadata": {},
   "outputs": [],
   "source": [
    "# @time solve(model, Kmn, f, sig)\n",
    "\n",
    "result = solve(model, Kmn, f, sig)"
   ]
  },
  {
   "cell_type": "code",
   "execution_count": null,
   "metadata": {},
   "outputs": [],
   "source": [
    "phivec = PhiVec(result[\"coeff\"], basis, result[\"sig\"])"
   ]
  },
  {
   "cell_type": "code",
   "execution_count": null,
   "metadata": {},
   "outputs": [],
   "source": [
    "x = collect(range(a, stop=b, length=5000))\n",
    "plot(x, phi.(x))\n",
    "\n",
    "phi_reconstructed = call(phivec, x)\n",
    "phi_reconstructed_errors = errors(phivec, x)\n",
    "\n",
    "plot(x, call(phivec, x))\n",
    "fill_between(x, phi_reconstructed - phi_reconstructed_errors, phi_reconstructed + phi_reconstructed_errors, alpha=0.3);"
   ]
  },
  {
   "cell_type": "code",
   "execution_count": null,
   "metadata": {},
   "outputs": [],
   "source": []
  }
 ],
 "metadata": {
  "kernelspec": {
   "display_name": "Julia 1.1.0",
   "language": "julia",
   "name": "julia-1.1"
  },
  "language_info": {
   "file_extension": ".jl",
   "mimetype": "application/julia",
   "name": "julia",
   "version": "1.1.0"
  }
 },
 "nbformat": 4,
 "nbformat_minor": 2
}
